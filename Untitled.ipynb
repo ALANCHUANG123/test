{
 "cells": [
  {
   "cell_type": "code",
   "execution_count": 1,
   "id": "14405bad",
   "metadata": {},
   "outputs": [
    {
     "data": {
      "text/plain": [
       "2"
      ]
     },
     "execution_count": 1,
     "metadata": {},
     "output_type": "execute_result"
    }
   ],
   "source": [
    "1+1\n"
   ]
  },
  {
   "cell_type": "code",
   "execution_count": 2,
   "id": "2708939e",
   "metadata": {},
   "outputs": [
    {
     "data": {
      "text/plain": [
       "10"
      ]
     },
     "execution_count": 2,
     "metadata": {},
     "output_type": "execute_result"
    }
   ],
   "source": [
    "2*5"
   ]
  },
  {
   "cell_type": "code",
   "execution_count": 4,
   "id": "e1273a2b",
   "metadata": {},
   "outputs": [
    {
     "name": "stdout",
     "output_type": "stream",
     "text": [
      "i wanna have my dinner\n"
     ]
    }
   ],
   "source": [
    "print(\"i wanna have my dinner\")\n"
   ]
  },
  {
   "cell_type": "code",
   "execution_count": 5,
   "id": "3a862041",
   "metadata": {},
   "outputs": [
    {
     "name": "stdout",
     "output_type": "stream",
     "text": [
      "1\n"
     ]
    }
   ],
   "source": [
    "a=1\n",
    "print(a)\n"
   ]
  },
  {
   "cell_type": "code",
   "execution_count": 7,
   "id": "aacd0f7e",
   "metadata": {},
   "outputs": [
    {
     "name": "stdout",
     "output_type": "stream",
     "text": [
      "<class 'int'>\n"
     ]
    }
   ],
   "source": [
    "print(type(a))"
   ]
  },
  {
   "cell_type": "code",
   "execution_count": 8,
   "id": "9e3aa99f",
   "metadata": {},
   "outputs": [
    {
     "name": "stdout",
     "output_type": "stream",
     "text": [
      "1 2 3\n"
     ]
    }
   ],
   "source": [
    "a_1, a_2, a_3 =1,2,3\n",
    "print(a_1,a_2,a_3)"
   ]
  },
  {
   "cell_type": "code",
   "execution_count": 9,
   "id": "2bd8065f",
   "metadata": {},
   "outputs": [
    {
     "name": "stdout",
     "output_type": "stream",
     "text": [
      "1.0\n"
     ]
    }
   ],
   "source": [
    "b=1.0\n",
    "print(b)"
   ]
  },
  {
   "cell_type": "code",
   "execution_count": 10,
   "id": "ad736fc6",
   "metadata": {},
   "outputs": [
    {
     "name": "stdout",
     "output_type": "stream",
     "text": [
      "<class 'float'>\n"
     ]
    }
   ],
   "source": [
    "b=1.0\n",
    "print(type(b))"
   ]
  },
  {
   "cell_type": "code",
   "execution_count": 11,
   "id": "2ab667f1",
   "metadata": {},
   "outputs": [
    {
     "name": "stdout",
     "output_type": "stream",
     "text": [
      "[1, 'two', 3, 'four', 5]\n"
     ]
    }
   ],
   "source": [
    "f=[1,\"two\",3,\"four\",5]\n",
    "print(f)"
   ]
  },
  {
   "cell_type": "code",
   "execution_count": 15,
   "id": "18afe392",
   "metadata": {},
   "outputs": [
    {
     "name": "stdout",
     "output_type": "stream",
     "text": [
      "5\n"
     ]
    }
   ],
   "source": [
    "print(f[4])"
   ]
  },
  {
   "cell_type": "code",
   "execution_count": 16,
   "id": "2b68faeb",
   "metadata": {},
   "outputs": [
    {
     "name": "stdout",
     "output_type": "stream",
     "text": [
      "[1, 'two']\n"
     ]
    }
   ],
   "source": [
    "print(f[:2])"
   ]
  },
  {
   "cell_type": "code",
   "execution_count": 17,
   "id": "a135ecbf",
   "metadata": {},
   "outputs": [
    {
     "name": "stdout",
     "output_type": "stream",
     "text": [
      "[3, 'four', 5]\n"
     ]
    }
   ],
   "source": [
    "print(f[2:])"
   ]
  },
  {
   "cell_type": "code",
   "execution_count": 18,
   "id": "4ef9b36e",
   "metadata": {},
   "outputs": [
    {
     "name": "stdout",
     "output_type": "stream",
     "text": [
      "[3, 'four']\n"
     ]
    }
   ],
   "source": [
    "print(f[2:4])"
   ]
  },
  {
   "cell_type": "code",
   "execution_count": 20,
   "id": "4ff96423",
   "metadata": {},
   "outputs": [
    {
     "name": "stdout",
     "output_type": "stream",
     "text": [
      "you are wrong\n"
     ]
    }
   ],
   "source": [
    "i=-1\n",
    "if i>=0:\n",
    "    print('you are right')\n",
    "else :\n",
    "    print('you are wrong')"
   ]
  },
  {
   "cell_type": "code",
   "execution_count": 22,
   "id": "f67e1dc5",
   "metadata": {},
   "outputs": [
    {
     "name": "stdout",
     "output_type": "stream",
     "text": [
      "['two', 3, 'four', 5]\n"
     ]
    }
   ],
   "source": [
    "print(f[1:])"
   ]
  },
  {
   "cell_type": "code",
   "execution_count": 24,
   "id": "5eef5d4f",
   "metadata": {},
   "outputs": [
    {
     "name": "stdout",
     "output_type": "stream",
     "text": [
      "you are right\n"
     ]
    }
   ],
   "source": [
    "i=1\n",
    "if i<-1:\n",
    "    print('you are wrong')\n",
    "elif i>2:\n",
    "    print('you are still wrong')\n",
    "else:\n",
    "    print('you are right')"
   ]
  },
  {
   "cell_type": "code",
   "execution_count": 25,
   "id": "29f85570",
   "metadata": {},
   "outputs": [
    {
     "name": "stdout",
     "output_type": "stream",
     "text": [
      "you are still wrong\n"
     ]
    }
   ],
   "source": [
    "i=3\n",
    "if i<-1:\n",
    "    print('you are wrong')\n",
    "elif i>2:\n",
    "    print('you are still wrong')\n",
    "else:\n",
    "    print('you are right')"
   ]
  },
  {
   "cell_type": "code",
   "execution_count": 26,
   "id": "232a5eaa",
   "metadata": {},
   "outputs": [
    {
     "name": "stdout",
     "output_type": "stream",
     "text": [
      "This is the 0-th iteration\n",
      "This is the 1-th iteration\n",
      "This is the 2-th iteration\n",
      "This is the 3-th iteration\n",
      "This is the 4-th iteration\n"
     ]
    }
   ],
   "source": [
    "#for loops\n",
    "#range (0,5) =[0,1,2,3,4]\n",
    "for j in range(0,5):\n",
    "    print (f'This is the {j}-th iteration')\n"
   ]
  },
  {
   "cell_type": "code",
   "execution_count": null,
   "id": "59762a56",
   "metadata": {},
   "outputs": [],
   "source": [
    "#while loops\n",
    "i=0\n",
    "while i<5:\n",
    "    print (f'This is the {i}-th iteration')\n",
    "    i=i+1"
   ]
  },
  {
   "cell_type": "code",
   "execution_count": null,
   "id": "b12c6e80",
   "metadata": {},
   "outputs": [],
   "source": [
    "#while loops\n",
    "i=0\n",
    "while i<5:\n",
    "    print (f'This is the {i}-th iteration')\n",
    "    i=i+1"
   ]
  },
  {
   "cell_type": "code",
   "execution_count": null,
   "id": "c5b18c39",
   "metadata": {},
   "outputs": [],
   "source": [
    "for i in range(0,5):\n",
    "    for j in range (0,2)\n",
    "    print (f'This is the {i}-th literation and {j}-th literation')\n"
   ]
  },
  {
   "cell_type": "code",
   "execution_count": null,
   "id": "4ec0304c",
   "metadata": {},
   "outputs": [],
   "source": [
    "cout<<a;"
   ]
  },
  {
   "cell_type": "code",
   "execution_count": null,
   "id": "5f42f19e",
   "metadata": {},
   "outputs": [],
   "source": []
  }
 ],
 "metadata": {
  "kernelspec": {
   "display_name": "Python 3 (ipykernel)",
   "language": "python",
   "name": "python3"
  },
  "language_info": {
   "codemirror_mode": {
    "name": "ipython",
    "version": 3
   },
   "file_extension": ".py",
   "mimetype": "text/x-python",
   "name": "python",
   "nbconvert_exporter": "python",
   "pygments_lexer": "ipython3",
   "version": "3.9.12"
  }
 },
 "nbformat": 4,
 "nbformat_minor": 5
}
